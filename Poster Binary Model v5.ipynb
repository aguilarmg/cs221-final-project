{
 "cells": [
  {
   "cell_type": "code",
   "execution_count": 1,
   "metadata": {},
   "outputs": [],
   "source": [
    "import numpy as np\n",
    "import pickle\n",
    "import matplotlib.pyplot as plt\n",
    "\n",
    "import torch\n",
    "import torch.nn as nn\n",
    "import torch.optim as optim\n",
    "from torch.utils.data import DataLoader\n",
    "from torch.utils.data import sampler\n",
    "\n",
    "import torchvision.datasets as dset\n",
    "import torchvision.transforms as T\n",
    "\n",
    "%load_ext autoreload\n",
    "%autoreload 2"
   ]
  },
  {
   "cell_type": "code",
   "execution_count": 2,
   "metadata": {},
   "outputs": [],
   "source": [
    "with open(\"data/pkl_files/trimmed_inputs.pkl\", \"rb\") as fp:\n",
    "    complete_inputs = pickle.load(fp)\n",
    "with open(\"data/pkl_files/trimmed_outputs.pkl\", \"rb\") as fp:\n",
    "    outputs = pickle.load(fp)"
   ]
  },
  {
   "cell_type": "code",
   "execution_count": 3,
   "metadata": {},
   "outputs": [],
   "source": [
    "inputs = np.reshape(complete_inputs[:,0:3,:,:], (complete_inputs.shape[0], 3, complete_inputs.shape[2], complete_inputs.shape[3]))\n"
   ]
  },
  {
   "cell_type": "code",
   "execution_count": 4,
   "metadata": {},
   "outputs": [
    {
     "name": "stdout",
     "output_type": "stream",
     "text": [
      "(25650, 3, 32, 32)\n",
      "(25650, 1, 32, 32)\n"
     ]
    }
   ],
   "source": [
    "# Sanity check\n",
    "print(inputs.shape)\n",
    "print(outputs.shape)"
   ]
  },
  {
   "cell_type": "code",
   "execution_count": 5,
   "metadata": {},
   "outputs": [],
   "source": [
    "outputs[outputs > 0] = 1"
   ]
  },
  {
   "cell_type": "code",
   "execution_count": null,
   "metadata": {},
   "outputs": [],
   "source": [
    "# Sanity Check\n",
    "idx = np.random.randint(0, inputs.shape[0])\n",
    "def plot_sampled_images(idx):    \n",
    "    cropped_seg_img = outputs[idx,0,:,:]\n",
    "    plt.imshow(cropped_seg_img)\n",
    "    plt.show()\n",
    "    cropped_flair_img = inputs[idx,0,:,:]\n",
    "    plt.imshow(cropped_flair_img)\n",
    "    plt.show()\n",
    "plot_sampled_images(idx)"
   ]
  },
  {
   "cell_type": "code",
   "execution_count": 6,
   "metadata": {},
   "outputs": [],
   "source": [
    "np.random.seed(0)\n",
    "shuffled_idxs = list(range(inputs.shape[0]))\n",
    "np.random.shuffle(shuffled_idxs)\n",
    "train_cutoff = int(inputs.shape[0]*80/100)\n",
    "val_cutoff = int(inputs.shape[0]*90/100)\n",
    "\n",
    "train_inputs = []\n",
    "train_outputs = []\n",
    "val_inputs = []\n",
    "val_outputs = []\n",
    "test_inputs = []\n",
    "test_outputs = []\n",
    "\n",
    "for iteration, idx in enumerate(shuffled_idxs):\n",
    "    if iteration < train_cutoff:\n",
    "        train_inputs.append(inputs[idx])\n",
    "        train_outputs.append(outputs[idx])\n",
    "    elif iteration < val_cutoff:\n",
    "        val_inputs.append(inputs[idx])\n",
    "        val_outputs.append(outputs[idx])\n",
    "    else:\n",
    "        test_inputs.append(inputs[idx])\n",
    "        test_outputs.append(outputs[idx])"
   ]
  },
  {
   "cell_type": "code",
   "execution_count": 7,
   "metadata": {},
   "outputs": [
    {
     "name": "stdout",
     "output_type": "stream",
     "text": [
      "20520\n",
      "20520\n",
      "2565\n",
      "2565\n",
      "2565\n",
      "2565\n"
     ]
    }
   ],
   "source": [
    "# sanity check\n",
    "print(len(train_inputs))\n",
    "print(len(train_outputs))\n",
    "print(len(val_inputs))\n",
    "print(len(val_outputs))\n",
    "print(len(test_inputs))\n",
    "print(len(test_outputs))"
   ]
  },
  {
   "cell_type": "code",
   "execution_count": 8,
   "metadata": {},
   "outputs": [],
   "source": [
    "train_inputs = np.asarray(train_inputs).astype(np.float32)\n",
    "val_inputs = np.asarray(val_inputs).astype(np.float32)\n",
    "test_inputs = np.asarray(test_inputs).astype(np.float32)\n",
    "\n",
    "train_inputs_mean = np.mean(train_inputs, axis=0)\n",
    "train_inputs_std = np.std(train_inputs, axis=0)\n",
    "\n",
    "train_inputs -= train_inputs_mean\n",
    "train_inputs /= train_inputs_std\n",
    "val_inputs -= train_inputs_mean\n",
    "val_inputs /= train_inputs_std\n",
    "test_inputs -= train_inputs_mean\n",
    "test_inputs /= train_inputs_std"
   ]
  },
  {
   "cell_type": "code",
   "execution_count": 9,
   "metadata": {},
   "outputs": [
    {
     "name": "stdout",
     "output_type": "stream",
     "text": [
      "0.06759054618969298\n"
     ]
    }
   ],
   "source": [
    "train_outputs = np.asarray(train_outputs).astype(np.float32)\n",
    "n_tumor_pixels = np.count_nonzero(train_outputs)\n",
    "total_output_pixels = train_outputs.shape[0]*train_outputs.shape[2]*train_outputs.shape[3]\n",
    "frac_tumor = n_tumor_pixels / total_output_pixels\n",
    "print(frac_tumor)"
   ]
  },
  {
   "cell_type": "code",
   "execution_count": 10,
   "metadata": {},
   "outputs": [],
   "source": [
    "train_data = []\n",
    "val_data = []\n",
    "test_data = []\n",
    "\n",
    "for idx in range(train_inputs.shape[0]):\n",
    "    train_data.append([train_inputs[idx], train_outputs[idx]])\n",
    "for idx in range(val_inputs.shape[0]):\n",
    "    val_data.append([val_inputs[idx], val_outputs[idx]])\n",
    "for idx in range(test_inputs.shape[0]):\n",
    "    test_data.append([test_inputs[idx], test_outputs[idx]])"
   ]
  },
  {
   "cell_type": "code",
   "execution_count": 11,
   "metadata": {},
   "outputs": [
    {
     "name": "stdout",
     "output_type": "stream",
     "text": [
      "642\n",
      "20520\n"
     ]
    }
   ],
   "source": [
    "train_loader = torch.utils.data.DataLoader(train_data, shuffle=True, batch_size=32)\n",
    "val_loader = torch.utils.data.DataLoader(val_data, shuffle=True, batch_size=32)\n",
    "test_loader = torch.utils.data.DataLoader(test_data, shuffle=True, batch_size=32)\n",
    "\n",
    "print(len(train_loader))\n",
    "print(len(train_data))"
   ]
  },
  {
   "cell_type": "code",
   "execution_count": 12,
   "metadata": {},
   "outputs": [
    {
     "name": "stdout",
     "output_type": "stream",
     "text": [
      "True\n",
      "using device: cuda\n"
     ]
    }
   ],
   "source": [
    "USE_GPU = True\n",
    "\n",
    "dtype = torch.float32 # we will be using float throughout this tutorial\n",
    "print(torch.cuda.is_available())\n",
    "\n",
    "if USE_GPU and torch.cuda.is_available():\n",
    "    device = torch.device('cuda')\n",
    "else:\n",
    "    device = torch.device('cpu')\n",
    "\n",
    "# Constant to control how frequently we print train loss\n",
    "print_every = 30\n",
    "\n",
    "print('using device:', device)"
   ]
  },
  {
   "cell_type": "code",
   "execution_count": 13,
   "metadata": {},
   "outputs": [],
   "source": [
    "from models.unet import *"
   ]
  },
  {
   "cell_type": "code",
   "execution_count": 15,
   "metadata": {},
   "outputs": [
    {
     "name": "stdout",
     "output_type": "stream",
     "text": [
      "torch.Size([32, 2, 32, 32])\n"
     ]
    }
   ],
   "source": [
    "\"\"\"\n",
    "in_channels=1,\n",
    "        n_classes=2,\n",
    "        depth=5,\n",
    "        wf=6,\n",
    "        padding=False,\n",
    "        batch_norm=False,\n",
    "        up_mode='upconv',\n",
    "\"\"\"\n",
    "def test_UNet():\n",
    "    channels_in = 3\n",
    "    n_classes = 2\n",
    "    x = torch.zeros((32, 3, 32, 32), dtype=dtype)\n",
    "    model = UNet(channel_in=channels_in, classes=n_classes)\n",
    "    scores = model(x)\n",
    "    print(scores.size())\n",
    "test_UNet()"
   ]
  },
  {
   "cell_type": "code",
   "execution_count": 38,
   "metadata": {},
   "outputs": [],
   "source": [
    "# Defining all parameters \n",
    "print_every = 25\n",
    "loss_history = []\n",
    "learning_rate = 0.5e-2\n",
    "input_channels = 3\n",
    "n_classes = 2\n",
    "model = UNet(channel_in=input_channels, classes=n_classes)\n",
    "optimizer = optim.SGD(model.parameters(), lr=learning_rate, momentum=0.9, nesterov=True)\n",
    "# criterion = torch.nn.CrossEntropyLoss(weight=torch.FloatTensor([1.0, n_blank_pixel/float(n_tumor_pixels)]).cuda()) \n",
    "criterion = torch.nn.CrossEntropyLoss(weight=torch.FloatTensor([1.0, (total_output_pixels-n_tumor_pixels)/float(n_tumor_pixels)]).cuda()) \n",
    "# could try dice loss? not sure how it would work nor how it expects its parameters though lol\n",
    "\n",
    "if USE_GPU and torch.cuda.is_available():\n",
    "    model.cuda()"
   ]
  },
  {
   "cell_type": "code",
   "execution_count": 39,
   "metadata": {},
   "outputs": [],
   "source": [
    "def create_masks(x):\n",
    "    mask = np.zeros((n_classes, x.shape[0], x.shape[1]))\n",
    "    for c in range(n_classes):\n",
    "        mask[c] = x == c\n",
    "    return mask"
   ]
  },
  {
   "cell_type": "code",
   "execution_count": 40,
   "metadata": {},
   "outputs": [],
   "source": [
    "def compute_iou(scores, output):  \n",
    "    scores = scores.astype(np.bool)\n",
    "    output = output.astype(np.bool)\n",
    "    overlap = scores*output\n",
    "    union = scores+output # Logical OR\n",
    "    IOU = (overlap.sum())/(float(union.sum())+1e-10) \n",
    "    return IOU"
   ]
  },
  {
   "cell_type": "code",
   "execution_count": 41,
   "metadata": {},
   "outputs": [],
   "source": [
    "def iou_metric(preds, labels):\n",
    "    # preds and labels are of size (64, 32, 32)\n",
    "    # return average iou value for each class\n",
    "    numpy_preds = preds.cpu().numpy()  \n",
    "    numpy_labels = labels.cpu().numpy()\n",
    "    \n",
    "    iou_tracker = np.zeros((numpy_preds.shape[0], n_classes))\n",
    "    # get the masks\n",
    "    for idx in range(numpy_preds.shape[0]):\n",
    "        \"\"\"plt.title('Segmented Output')\n",
    "        plt.imshow(numpy_preds[idx,:,:])\n",
    "        plt.show()\n",
    "        plt.title('Ground Truth')\n",
    "        plt.imshow(numpy_labels[idx,:,:])\n",
    "        plt.show()\"\"\"\n",
    "        pred_mask = create_masks(numpy_preds[idx])\n",
    "        label_mask = create_masks(numpy_labels[idx])\n",
    "        for c in range(n_classes):\n",
    "            iou_tracker[idx, c] = compute_iou(pred_mask[c], label_mask[c])\n",
    "        # print(iou_tracker[idx])\n",
    "    # print(np.mean(iou_tracker, axis=0))\n",
    "    return np.mean(iou_tracker, axis=0)     "
   ]
  },
  {
   "cell_type": "code",
   "execution_count": 42,
   "metadata": {},
   "outputs": [],
   "source": [
    "def check_iou(loader, model):\n",
    "    all_iou = np.zeros((len(loader),n_classes))\n",
    "\n",
    "    with torch.no_grad():\n",
    "        for t, (x,y) in enumerate(loader):\n",
    "            x = x.to(device=device, dtype=dtype)  # move to device, e.g. GPU\n",
    "            y = y.to(device=device, dtype=torch.float).view(y.shape[0], 32, 32)\n",
    "            scores = model(x)\n",
    "            _, preds = scores.max(1)\n",
    "            \n",
    "            all_iou[t] = iou_metric(preds, y)\n",
    "    # print(np.mean(all_iou, axis=0))\n",
    "    return np.mean(all_iou, axis=0)"
   ]
  },
  {
   "cell_type": "code",
   "execution_count": 43,
   "metadata": {},
   "outputs": [
    {
     "name": "stderr",
     "output_type": "stream",
     "text": [
      "/opt/anaconda3/lib/python3.7/site-packages/torch/nn/functional.py:2539: UserWarning: Default upsampling behavior when mode=bilinear is changed to align_corners=False since 0.4.0. Please specify align_corners=True if the old behavior is desired. See the documentation of nn.Upsample for details.\n",
      "  \"See the documentation of nn.Upsample for details.\".format(mode))\n"
     ]
    },
    {
     "data": {
      "text/plain": [
       "array([0.        , 0.06215225])"
      ]
     },
     "execution_count": 43,
     "metadata": {},
     "output_type": "execute_result"
    }
   ],
   "source": [
    "check_iou(val_loader, model)"
   ]
  },
  {
   "cell_type": "code",
   "execution_count": 44,
   "metadata": {},
   "outputs": [],
   "source": [
    "def plot_output(scores, y):\n",
    "    with torch.no_grad():\n",
    "        _, preds = scores.max(1)\n",
    "        numpy_scores = preds.cpu().numpy().astype(np.uint8)\n",
    "        numpy_truth = y.cpu().numpy().astype(np.uint8)\n",
    "        idx = np.random.randint(1, y.shape[0])\n",
    "        while(np.count_nonzero(numpy_truth[idx]) < int(0.10*32*32)):\n",
    "            idx = np.random.randint(1, y.shape[0])\n",
    "        plt.title('Segmented Output')\n",
    "        plt.imshow(numpy_scores[idx,:,:])\n",
    "        plt.show()\n",
    "        plt.title('Ground Truth')\n",
    "        plt.imshow(numpy_truth[idx,:,:])\n",
    "        plt.show()"
   ]
  },
  {
   "cell_type": "code",
   "execution_count": 45,
   "metadata": {},
   "outputs": [
    {
     "name": "stdout",
     "output_type": "stream",
     "text": [
      "Epoch 0, Iteration 0, loss = 0.7237\n",
      "Validation IOU:  [0.         0.06310033]\n",
      "Training IOU:  [0.         0.06763351]\n",
      "Epoch 0, Iteration 25, loss = 0.6328\n",
      "Validation IOU:  [0.         0.06215225]\n",
      "Training IOU:  [0.         0.06751159]\n",
      "Epoch 0, Iteration 50, loss = 0.7106\n",
      "Validation IOU:  [0.         0.06215225]\n",
      "Training IOU:  [0.         0.06761369]\n",
      "Epoch 0, Iteration 75, loss = 0.6669\n",
      "Validation IOU:  [0.02786961 0.06252606]\n",
      "Training IOU:  [0.02713037 0.06805595]\n",
      "Epoch 0, Iteration 100, loss = 0.7450\n",
      "Validation IOU:  [0.16471436 0.06592142]\n",
      "Training IOU:  [0.16547081 0.07130487]\n",
      "Epoch 0, Iteration 125, loss = 0.6746\n",
      "Validation IOU:  [0.23758264 0.06690081]\n",
      "Training IOU:  [0.24006084 0.07280316]\n",
      "Epoch 0, Iteration 150, loss = 0.7156\n",
      "Validation IOU:  [0.32428283 0.06468786]\n",
      "Training IOU:  [0.32447414 0.07115551]\n",
      "Epoch 0, Iteration 175, loss = 0.6709\n",
      "Validation IOU:  [0.52386132 0.05510607]\n",
      "Training IOU:  [0.52159991 0.05976416]\n",
      "Epoch 0, Iteration 200, loss = 0.6580\n",
      "Validation IOU:  [0.67426421 0.0462375 ]\n",
      "Training IOU:  [0.67126494 0.05072684]\n",
      "Epoch 0, Iteration 225, loss = 0.6738\n",
      "Validation IOU:  [0.72757282 0.03964026]\n",
      "Training IOU:  [0.72714604 0.04493176]\n",
      "Epoch 0, Iteration 250, loss = 0.6585\n",
      "Validation IOU:  [0.74421767 0.04135651]\n",
      "Training IOU:  [0.74238878 0.0456546 ]\n",
      "Epoch 0, Iteration 275, loss = 0.6371\n",
      "Validation IOU:  [0.77483428 0.03789676]\n",
      "Training IOU:  [0.77360635 0.04270625]\n",
      "Epoch 0, Iteration 300, loss = 0.6373\n",
      "Validation IOU:  [0.76332614 0.03926626]\n",
      "Training IOU:  [0.76410802 0.04515966]\n",
      "Epoch 0, Iteration 325, loss = 0.6761\n",
      "Validation IOU:  [0.78290609 0.03880052]\n",
      "Training IOU:  [0.78276271 0.04328344]\n",
      "Epoch 0, Iteration 350, loss = 0.5994\n",
      "Validation IOU:  [0.73761682 0.04570307]\n",
      "Training IOU:  [0.73735645 0.05219038]\n",
      "Epoch 0, Iteration 375, loss = 0.6349\n",
      "Validation IOU:  [0.71058316 0.0506186 ]\n",
      "Training IOU:  [0.71282465 0.05693713]\n",
      "Epoch 0, Iteration 400, loss = 0.5989\n",
      "Validation IOU:  [0.69856594 0.05248944]\n",
      "Training IOU:  [0.69906742 0.05938101]\n",
      "Epoch 0, Iteration 425, loss = 0.6303\n",
      "Validation IOU:  [0.72776427 0.04959493]\n",
      "Training IOU:  [0.73145634 0.055973  ]\n",
      "Epoch 0, Iteration 450, loss = 0.6130\n",
      "Validation IOU:  [0.74333505 0.05236629]\n",
      "Training IOU:  [0.74425683 0.05705412]\n",
      "Epoch 0, Iteration 475, loss = 0.6137\n",
      "Validation IOU:  [0.68500121 0.0530295 ]\n",
      "Training IOU:  [0.68769742 0.05973121]\n",
      "Epoch 0, Iteration 500, loss = 0.6024\n",
      "Validation IOU:  [0.65466167 0.05560491]\n",
      "Training IOU:  [0.66017975 0.06309134]\n",
      "Epoch 0, Iteration 525, loss = 0.6356\n",
      "Validation IOU:  [0.68938498 0.05900878]\n",
      "Training IOU:  [0.69268131 0.06580866]\n",
      "Epoch 0, Iteration 550, loss = 0.6345\n",
      "Validation IOU:  [0.61818259 0.06239416]\n",
      "Training IOU:  [0.62073513 0.06994154]\n",
      "Epoch 0, Iteration 575, loss = 0.6332\n",
      "Validation IOU:  [0.65745321 0.06031415]\n",
      "Training IOU:  [0.65938857 0.06629283]\n",
      "Epoch 0, Iteration 600, loss = 0.5260\n",
      "Validation IOU:  [0.70067656 0.06054958]\n",
      "Training IOU:  [0.7048448  0.06600683]\n",
      "Epoch 0, Iteration 625, loss = 0.6306\n",
      "Validation IOU:  [0.71542233 0.05810368]\n",
      "Training IOU:  [0.71938424 0.06632798]\n",
      "Epoch 1, Iteration 0, loss = 0.5753\n",
      "Validation IOU:  [0.64281406 0.06616   ]\n",
      "Training IOU:  [0.64198933 0.07195577]\n",
      "Epoch 1, Iteration 25, loss = 0.5735\n",
      "Validation IOU:  [0.6765713  0.06416857]\n",
      "Training IOU:  [0.68032586 0.07095346]\n",
      "Epoch 1, Iteration 50, loss = 0.5278\n",
      "Validation IOU:  [0.69079309 0.06322497]\n",
      "Training IOU:  [0.69509319 0.07006326]\n",
      "Epoch 1, Iteration 75, loss = 0.5228\n",
      "Validation IOU:  [0.70780944 0.06272019]\n",
      "Training IOU:  [0.70946336 0.06846599]\n",
      "Epoch 1, Iteration 100, loss = 0.5699\n",
      "Validation IOU:  [0.67423639 0.06455716]\n",
      "Training IOU:  [0.67591473 0.07125355]\n",
      "Epoch 1, Iteration 125, loss = 0.6209\n",
      "Validation IOU:  [0.6799263  0.06789975]\n",
      "Training IOU:  [0.68236269 0.07300968]\n",
      "Epoch 1, Iteration 150, loss = 0.5935\n",
      "Validation IOU:  [0.69346503 0.06386447]\n",
      "Training IOU:  [0.70069547 0.06973693]\n",
      "Epoch 1, Iteration 175, loss = 0.6194\n",
      "Validation IOU:  [0.70253845 0.0652285 ]\n",
      "Training IOU:  [0.70723652 0.0705541 ]\n",
      "Epoch 1, Iteration 200, loss = 0.5518\n",
      "Validation IOU:  [0.70593477 0.06315567]\n",
      "Training IOU:  [0.71246271 0.06865881]\n",
      "Epoch 1, Iteration 225, loss = 0.6254\n",
      "Validation IOU:  [0.70537325 0.06174252]\n",
      "Training IOU:  [0.71156893 0.0682509 ]\n",
      "Epoch 1, Iteration 250, loss = 0.5507\n",
      "Validation IOU:  [0.69621526 0.06550587]\n",
      "Training IOU:  [0.6969142  0.07002329]\n",
      "Epoch 1, Iteration 275, loss = 0.5645\n",
      "Validation IOU:  [0.7306615  0.06187315]\n",
      "Training IOU:  [0.73595749 0.06855532]\n",
      "Epoch 1, Iteration 300, loss = 0.5636\n",
      "Validation IOU:  [0.72943452 0.06416602]\n",
      "Training IOU:  [0.73788044 0.07122936]\n",
      "Epoch 1, Iteration 325, loss = 0.5048\n",
      "Validation IOU:  [0.74148976 0.06410516]\n",
      "Training IOU:  [0.74525982 0.07135672]\n",
      "Epoch 1, Iteration 350, loss = 0.5753\n",
      "Validation IOU:  [0.72832206 0.06432391]\n",
      "Training IOU:  [0.73274633 0.07155364]\n",
      "Epoch 1, Iteration 375, loss = 0.5431\n",
      "Validation IOU:  [0.70433007 0.06711311]\n",
      "Training IOU:  [0.70543064 0.07283557]\n",
      "Epoch 1, Iteration 400, loss = 0.5443\n",
      "Validation IOU:  [0.71735032 0.0689233 ]\n",
      "Training IOU:  [0.72259785 0.07523424]\n",
      "Epoch 1, Iteration 425, loss = 0.5392\n",
      "Validation IOU:  [0.6745944  0.06783366]\n",
      "Training IOU:  [0.67534402 0.07366745]\n",
      "Epoch 1, Iteration 450, loss = 0.6560\n",
      "Validation IOU:  [0.71199613 0.06623448]\n",
      "Training IOU:  [0.7150828  0.07347082]\n",
      "Epoch 1, Iteration 475, loss = 0.5687\n",
      "Validation IOU:  [0.70135612 0.06783674]\n",
      "Training IOU:  [0.70731291 0.07491842]\n",
      "Epoch 1, Iteration 500, loss = 0.5399\n",
      "Validation IOU:  [0.68105208 0.06942278]\n",
      "Training IOU:  [0.68804679 0.07551768]\n",
      "Epoch 1, Iteration 525, loss = 0.4264\n",
      "Validation IOU:  [0.71353122 0.07016994]\n",
      "Training IOU:  [0.71616392 0.07460377]\n",
      "Epoch 1, Iteration 550, loss = 0.6121\n",
      "Validation IOU:  [0.71335415 0.06666815]\n",
      "Training IOU:  [0.71431185 0.07375472]\n",
      "Epoch 1, Iteration 575, loss = 0.6393\n",
      "Validation IOU:  [0.73655539 0.07121308]\n",
      "Training IOU:  [0.7369726  0.07362426]\n",
      "Epoch 1, Iteration 600, loss = 0.4576\n",
      "Validation IOU:  [0.7275956  0.06644101]\n",
      "Training IOU:  [0.7326966  0.07390982]\n",
      "Epoch 1, Iteration 625, loss = 0.5362\n",
      "Validation IOU:  [0.73732946 0.06753784]\n",
      "Training IOU:  [0.74079698 0.07247941]\n",
      "Epoch 2, Iteration 0, loss = 0.5555\n",
      "Validation IOU:  [0.72521337 0.06555191]\n",
      "Training IOU:  [0.72841699 0.07362122]\n",
      "Epoch 2, Iteration 25, loss = 0.5911\n",
      "Validation IOU:  [0.71703548 0.06580055]\n",
      "Training IOU:  [0.71894607 0.07370167]\n",
      "Epoch 2, Iteration 50, loss = 0.5354\n",
      "Validation IOU:  [0.68894828 0.06806464]\n",
      "Training IOU:  [0.69410471 0.07553487]\n",
      "Epoch 2, Iteration 75, loss = 0.4444\n",
      "Validation IOU:  [0.70750735 0.06952713]\n",
      "Training IOU:  [0.71118922 0.07630516]\n",
      "Epoch 2, Iteration 100, loss = 0.5661\n",
      "Validation IOU:  [0.73363278 0.06809052]\n",
      "Training IOU:  [0.73548706 0.07136933]\n",
      "Epoch 2, Iteration 125, loss = 0.5288\n",
      "Validation IOU:  [0.73159394 0.0651806 ]\n",
      "Training IOU:  [0.73347173 0.06964834]\n",
      "Epoch 2, Iteration 150, loss = 0.4929\n",
      "Validation IOU:  [0.70256579 0.06316564]\n",
      "Training IOU:  [0.70213976 0.07206378]\n",
      "Epoch 2, Iteration 175, loss = 0.4907\n",
      "Validation IOU:  [0.71988545 0.06912078]\n",
      "Training IOU:  [0.72292212 0.07509531]\n",
      "Epoch 2, Iteration 200, loss = 0.4802\n",
      "Validation IOU:  [0.68679672 0.06794858]\n",
      "Training IOU:  [0.68756161 0.07603439]\n",
      "Epoch 2, Iteration 225, loss = 0.5186\n"
     ]
    },
    {
     "ename": "KeyboardInterrupt",
     "evalue": "",
     "output_type": "error",
     "traceback": [
      "\u001b[0;31m---------------------------------------------------------------------------\u001b[0m",
      "\u001b[0;31mKeyboardInterrupt\u001b[0m                         Traceback (most recent call last)",
      "\u001b[0;32m<ipython-input-45-1df2b8a587bb>\u001b[0m in \u001b[0;36m<module>\u001b[0;34m\u001b[0m\n\u001b[1;32m     36\u001b[0m             \u001b[0;31m# if t % plot_every == 0:\u001b[0m\u001b[0;34m\u001b[0m\u001b[0;34m\u001b[0m\u001b[0;34m\u001b[0m\u001b[0m\n\u001b[1;32m     37\u001b[0m                 \u001b[0;31m# plot_output(scores, labels)\u001b[0m\u001b[0;34m\u001b[0m\u001b[0;34m\u001b[0m\u001b[0;34m\u001b[0m\u001b[0m\n\u001b[0;32m---> 38\u001b[0;31m \u001b[0mtrain\u001b[0m\u001b[0;34m(\u001b[0m\u001b[0mmodel\u001b[0m\u001b[0;34m,\u001b[0m \u001b[0moptimizer\u001b[0m\u001b[0;34m,\u001b[0m \u001b[0mepochs\u001b[0m\u001b[0;34m=\u001b[0m\u001b[0;36m250\u001b[0m\u001b[0;34m)\u001b[0m\u001b[0;34m\u001b[0m\u001b[0;34m\u001b[0m\u001b[0m\n\u001b[0m",
      "\u001b[0;32m<ipython-input-45-1df2b8a587bb>\u001b[0m in \u001b[0;36mtrain\u001b[0;34m(model, optimizer, epochs)\u001b[0m\n\u001b[1;32m     30\u001b[0m                 \u001b[0mval_iou\u001b[0m \u001b[0;34m=\u001b[0m \u001b[0mcheck_iou\u001b[0m\u001b[0;34m(\u001b[0m\u001b[0mval_loader\u001b[0m\u001b[0;34m,\u001b[0m \u001b[0mmodel\u001b[0m\u001b[0;34m)\u001b[0m\u001b[0;34m\u001b[0m\u001b[0;34m\u001b[0m\u001b[0m\n\u001b[1;32m     31\u001b[0m                 \u001b[0mval_iou_history\u001b[0m\u001b[0;34m.\u001b[0m\u001b[0mappend\u001b[0m\u001b[0;34m(\u001b[0m\u001b[0mval_iou\u001b[0m\u001b[0;34m)\u001b[0m\u001b[0;34m\u001b[0m\u001b[0;34m\u001b[0m\u001b[0m\n\u001b[0;32m---> 32\u001b[0;31m                 \u001b[0mtrain_iou\u001b[0m \u001b[0;34m=\u001b[0m \u001b[0mcheck_iou\u001b[0m\u001b[0;34m(\u001b[0m\u001b[0mtrain_loader\u001b[0m\u001b[0;34m,\u001b[0m \u001b[0mmodel\u001b[0m\u001b[0;34m)\u001b[0m\u001b[0;34m\u001b[0m\u001b[0;34m\u001b[0m\u001b[0m\n\u001b[0m\u001b[1;32m     33\u001b[0m                 \u001b[0mtrain_iou_history\u001b[0m\u001b[0;34m.\u001b[0m\u001b[0mappend\u001b[0m\u001b[0;34m(\u001b[0m\u001b[0mtrain_iou\u001b[0m\u001b[0;34m)\u001b[0m\u001b[0;34m\u001b[0m\u001b[0;34m\u001b[0m\u001b[0m\n\u001b[1;32m     34\u001b[0m                 \u001b[0mprint\u001b[0m\u001b[0;34m(\u001b[0m\u001b[0;34m'Validation IOU: '\u001b[0m\u001b[0;34m,\u001b[0m \u001b[0mval_iou\u001b[0m\u001b[0;34m)\u001b[0m\u001b[0;34m\u001b[0m\u001b[0;34m\u001b[0m\u001b[0m\n",
      "\u001b[0;32m<ipython-input-42-1efe0f204942>\u001b[0m in \u001b[0;36mcheck_iou\u001b[0;34m(loader, model)\u001b[0m\n\u001b[1;32m      9\u001b[0m             \u001b[0m_\u001b[0m\u001b[0;34m,\u001b[0m \u001b[0mpreds\u001b[0m \u001b[0;34m=\u001b[0m \u001b[0mscores\u001b[0m\u001b[0;34m.\u001b[0m\u001b[0mmax\u001b[0m\u001b[0;34m(\u001b[0m\u001b[0;36m1\u001b[0m\u001b[0;34m)\u001b[0m\u001b[0;34m\u001b[0m\u001b[0;34m\u001b[0m\u001b[0m\n\u001b[1;32m     10\u001b[0m \u001b[0;34m\u001b[0m\u001b[0m\n\u001b[0;32m---> 11\u001b[0;31m             \u001b[0mall_iou\u001b[0m\u001b[0;34m[\u001b[0m\u001b[0mt\u001b[0m\u001b[0;34m]\u001b[0m \u001b[0;34m=\u001b[0m \u001b[0miou_metric\u001b[0m\u001b[0;34m(\u001b[0m\u001b[0mpreds\u001b[0m\u001b[0;34m,\u001b[0m \u001b[0my\u001b[0m\u001b[0;34m)\u001b[0m\u001b[0;34m\u001b[0m\u001b[0;34m\u001b[0m\u001b[0m\n\u001b[0m\u001b[1;32m     12\u001b[0m     \u001b[0;31m# print(np.mean(all_iou, axis=0))\u001b[0m\u001b[0;34m\u001b[0m\u001b[0;34m\u001b[0m\u001b[0;34m\u001b[0m\u001b[0m\n\u001b[1;32m     13\u001b[0m     \u001b[0;32mreturn\u001b[0m \u001b[0mnp\u001b[0m\u001b[0;34m.\u001b[0m\u001b[0mmean\u001b[0m\u001b[0;34m(\u001b[0m\u001b[0mall_iou\u001b[0m\u001b[0;34m,\u001b[0m \u001b[0maxis\u001b[0m\u001b[0;34m=\u001b[0m\u001b[0;36m0\u001b[0m\u001b[0;34m)\u001b[0m\u001b[0;34m\u001b[0m\u001b[0;34m\u001b[0m\u001b[0m\n",
      "\u001b[0;32m<ipython-input-41-f89f8357680b>\u001b[0m in \u001b[0;36miou_metric\u001b[0;34m(preds, labels)\u001b[0m\n\u001b[1;32m     17\u001b[0m         \u001b[0mlabel_mask\u001b[0m \u001b[0;34m=\u001b[0m \u001b[0mcreate_masks\u001b[0m\u001b[0;34m(\u001b[0m\u001b[0mnumpy_labels\u001b[0m\u001b[0;34m[\u001b[0m\u001b[0midx\u001b[0m\u001b[0;34m]\u001b[0m\u001b[0;34m)\u001b[0m\u001b[0;34m\u001b[0m\u001b[0;34m\u001b[0m\u001b[0m\n\u001b[1;32m     18\u001b[0m         \u001b[0;32mfor\u001b[0m \u001b[0mc\u001b[0m \u001b[0;32min\u001b[0m \u001b[0mrange\u001b[0m\u001b[0;34m(\u001b[0m\u001b[0mn_classes\u001b[0m\u001b[0;34m)\u001b[0m\u001b[0;34m:\u001b[0m\u001b[0;34m\u001b[0m\u001b[0;34m\u001b[0m\u001b[0m\n\u001b[0;32m---> 19\u001b[0;31m             \u001b[0miou_tracker\u001b[0m\u001b[0;34m[\u001b[0m\u001b[0midx\u001b[0m\u001b[0;34m,\u001b[0m \u001b[0mc\u001b[0m\u001b[0;34m]\u001b[0m \u001b[0;34m=\u001b[0m \u001b[0mcompute_iou\u001b[0m\u001b[0;34m(\u001b[0m\u001b[0mpred_mask\u001b[0m\u001b[0;34m[\u001b[0m\u001b[0mc\u001b[0m\u001b[0;34m]\u001b[0m\u001b[0;34m,\u001b[0m \u001b[0mlabel_mask\u001b[0m\u001b[0;34m[\u001b[0m\u001b[0mc\u001b[0m\u001b[0;34m]\u001b[0m\u001b[0;34m)\u001b[0m\u001b[0;34m\u001b[0m\u001b[0;34m\u001b[0m\u001b[0m\n\u001b[0m\u001b[1;32m     20\u001b[0m         \u001b[0;31m# print(iou_tracker[idx])\u001b[0m\u001b[0;34m\u001b[0m\u001b[0;34m\u001b[0m\u001b[0;34m\u001b[0m\u001b[0m\n\u001b[1;32m     21\u001b[0m     \u001b[0;31m# print(np.mean(iou_tracker, axis=0))\u001b[0m\u001b[0;34m\u001b[0m\u001b[0;34m\u001b[0m\u001b[0;34m\u001b[0m\u001b[0m\n",
      "\u001b[0;32m<ipython-input-40-a0fbd233bce6>\u001b[0m in \u001b[0;36mcompute_iou\u001b[0;34m(scores, output)\u001b[0m\n\u001b[1;32m      4\u001b[0m     \u001b[0moverlap\u001b[0m \u001b[0;34m=\u001b[0m \u001b[0mscores\u001b[0m\u001b[0;34m*\u001b[0m\u001b[0moutput\u001b[0m\u001b[0;34m\u001b[0m\u001b[0;34m\u001b[0m\u001b[0m\n\u001b[1;32m      5\u001b[0m     \u001b[0munion\u001b[0m \u001b[0;34m=\u001b[0m \u001b[0mscores\u001b[0m\u001b[0;34m+\u001b[0m\u001b[0moutput\u001b[0m \u001b[0;31m# Logical OR\u001b[0m\u001b[0;34m\u001b[0m\u001b[0;34m\u001b[0m\u001b[0m\n\u001b[0;32m----> 6\u001b[0;31m     \u001b[0mIOU\u001b[0m \u001b[0;34m=\u001b[0m \u001b[0;34m(\u001b[0m\u001b[0moverlap\u001b[0m\u001b[0;34m.\u001b[0m\u001b[0msum\u001b[0m\u001b[0;34m(\u001b[0m\u001b[0;34m)\u001b[0m\u001b[0;34m)\u001b[0m\u001b[0;34m/\u001b[0m\u001b[0;34m(\u001b[0m\u001b[0mfloat\u001b[0m\u001b[0;34m(\u001b[0m\u001b[0munion\u001b[0m\u001b[0;34m.\u001b[0m\u001b[0msum\u001b[0m\u001b[0;34m(\u001b[0m\u001b[0;34m)\u001b[0m\u001b[0;34m)\u001b[0m\u001b[0;34m+\u001b[0m\u001b[0;36m1e-10\u001b[0m\u001b[0;34m)\u001b[0m\u001b[0;34m\u001b[0m\u001b[0;34m\u001b[0m\u001b[0m\n\u001b[0m\u001b[1;32m      7\u001b[0m     \u001b[0;32mreturn\u001b[0m \u001b[0mIOU\u001b[0m\u001b[0;34m\u001b[0m\u001b[0;34m\u001b[0m\u001b[0m\n",
      "\u001b[0;32m/opt/anaconda3/lib/python3.7/site-packages/numpy/core/_methods.py\u001b[0m in \u001b[0;36m_sum\u001b[0;34m(a, axis, dtype, out, keepdims, initial)\u001b[0m\n\u001b[1;32m     34\u001b[0m def _sum(a, axis=None, dtype=None, out=None, keepdims=False,\n\u001b[1;32m     35\u001b[0m          initial=_NoValue):\n\u001b[0;32m---> 36\u001b[0;31m     \u001b[0;32mreturn\u001b[0m \u001b[0mumr_sum\u001b[0m\u001b[0;34m(\u001b[0m\u001b[0ma\u001b[0m\u001b[0;34m,\u001b[0m \u001b[0maxis\u001b[0m\u001b[0;34m,\u001b[0m \u001b[0mdtype\u001b[0m\u001b[0;34m,\u001b[0m \u001b[0mout\u001b[0m\u001b[0;34m,\u001b[0m \u001b[0mkeepdims\u001b[0m\u001b[0;34m,\u001b[0m \u001b[0minitial\u001b[0m\u001b[0;34m)\u001b[0m\u001b[0;34m\u001b[0m\u001b[0;34m\u001b[0m\u001b[0m\n\u001b[0m\u001b[1;32m     37\u001b[0m \u001b[0;34m\u001b[0m\u001b[0m\n\u001b[1;32m     38\u001b[0m def _prod(a, axis=None, dtype=None, out=None, keepdims=False,\n",
      "\u001b[0;31mKeyboardInterrupt\u001b[0m: "
     ]
    }
   ],
   "source": [
    "import torch.nn.functional as F\n",
    "\n",
    "val_iou_history = []\n",
    "train_iou_history = []\n",
    "plot_every = 100\n",
    "def train(model, optimizer, epochs=1):\n",
    "    model = model.to(device=device)\n",
    "    loss_history.clear()\n",
    "    val_iou_history.clear()\n",
    "    train_iou_history.clear()\n",
    "    for e in range(epochs):\n",
    "        for t, (x,y) in enumerate(train_loader):\n",
    "            model.train()\n",
    "            x = x.to(device=device, dtype=dtype)\n",
    "            labels = y.to(device=device, dtype=torch.long).view(y.shape[0], 32, 32)\n",
    "            # print(labels.shape)\n",
    "\n",
    "            scores = model(x)\n",
    "            # print(scores.shape)\n",
    "\n",
    "            loss = criterion(scores, labels)\n",
    "            # loss = F.cross_entropy(scores, labels, weight=torch.FloatTensor([1/(float(26265600-1762336)), 1/(float(1762336))]).cuda())\n",
    "            loss_history.append(loss.item())\n",
    "            optimizer.zero_grad()\n",
    "            loss.backward()\n",
    "            optimizer.step()\n",
    "            # print(t)\n",
    "            if t % print_every == 0:\n",
    "                print('Epoch %d, Iteration %d, loss = %.4f' % (e, t, loss.item()))\n",
    "                val_iou = check_iou(val_loader, model)\n",
    "                val_iou_history.append(val_iou)\n",
    "                train_iou = check_iou(train_loader, model)\n",
    "                train_iou_history.append(train_iou)\n",
    "                print('Validation IOU: ', val_iou)\n",
    "                print('Training IOU: ', train_iou)\n",
    "            # if t % plot_every == 0:\n",
    "                # plot_output(scores, labels)\n",
    "train(model, optimizer, epochs=250)"
   ]
  },
  {
   "cell_type": "code",
   "execution_count": 50,
   "metadata": {
    "scrolled": true
   },
   "outputs": [
    {
     "data": {
      "image/png": "[encoded data removed]",
      "text/plain": [
       "<Figure size 432x288 with 1 Axes>"
      ]
     },
     "metadata": {
      "needs_background": "light"
     },
     "output_type": "display_data"
    }
   ],
   "source": [
    "fig = plt.figure()\n",
    "plt.title('Loss over time')\n",
    "plt.xlabel('Iteration')\n",
    "plt.ylabel('Loss')\n",
    "plt.plot(range(len(loss_history))[0::225], loss_history[0::225])\n",
    "# plt.plot(range(len(loss_history)), loss_history)\n",
    "fig.savefig('Binary Problem Loss - Poster Session.png')"
   ]
  },
  {
   "cell_type": "code",
   "execution_count": 25,
   "metadata": {},
   "outputs": [],
   "source": [
    "val_hist = np.asarray(val_iou_history)\n",
    "train_hist = np.asarray(train_iou_history)"
   ]
  },
  {
   "cell_type": "code",
   "execution_count": 26,
   "metadata": {},
   "outputs": [
    {
     "name": "stdout",
     "output_type": "stream",
     "text": [
      "(2299, 2)\n",
      "(2298, 2)\n"
     ]
    }
   ],
   "source": [
    "print(val_hist.shape)\n",
    "print(train_hist.shape)"
   ]
  },
  {
   "cell_type": "code",
   "execution_count": 33,
   "metadata": {},
   "outputs": [
    {
     "data": {
      "image/png": "[encoded data removed]",
      "text/plain": [
       "<Figure size 432x288 with 1 Axes>"
      ]
     },
     "metadata": {
      "needs_background": "light"
     },
     "output_type": "display_data"
    }
   ],
   "source": [
    "fig = plt.figure()\n",
    "plt.title('IOU for tumor over time')\n",
    "plt.xlabel('Iteration')\n",
    "plt.ylabel('IOU')\n",
    "plt.plot(range(val_hist.shape[0]), val_hist[:,1], label='val')\n",
    "plt.plot(range(train_hist.shape[0]), train_hist[:,1], label='train')\n",
    "plt.legend()\n",
    "fig.savefig('IOU for tumor - Poster Session.png')"
   ]
  },
  {
   "cell_type": "code",
   "execution_count": 34,
   "metadata": {},
   "outputs": [
    {
     "data": {
      "image/png": "[encoded data removed]",
      "text/plain": [
       "<Figure size 432x288 with 1 Axes>"
      ]
     },
     "metadata": {
      "needs_background": "light"
     },
     "output_type": "display_data"
    }
   ],
   "source": [
    "fig = plt.figure()\n",
    "plt.title('IOU for no tumor over time')\n",
    "plt.xlabel('Iteration')\n",
    "plt.ylabel('IOU')\n",
    "plt.plot(range(val_hist.shape[0]), val_hist[:,0], label='val')\n",
    "plt.plot(range(train_hist.shape[0]), train_hist[:,0], label='train')\n",
    "plt.legend()\n",
    "fig.savefig('IOU for no tumor - Poster Session.png')"
   ]
  },
  {
   "cell_type": "code",
   "execution_count": 32,
   "metadata": {},
   "outputs": [
    {
     "name": "stderr",
     "output_type": "stream",
     "text": [
      "/opt/anaconda3/lib/python3.7/site-packages/torch/nn/functional.py:2539: UserWarning: Default upsampling behavior when mode=bilinear is changed to align_corners=False since 0.4.0. Please specify align_corners=True if the old behavior is desired. See the documentation of nn.Upsample for details.\n",
      "  \"See the documentation of nn.Upsample for details.\".format(mode))\n"
     ]
    },
    {
     "data": {
      "text/plain": [
       "array([0.88586248, 0.06868494])"
      ]
     },
     "execution_count": 32,
     "metadata": {},
     "output_type": "execute_result"
    }
   ],
   "source": [
    "check_iou(test_loader, model)"
   ]
  },
  {
   "cell_type": "markdown",
   "metadata": {},
   "source": [
    "Overfitting small dataset"
   ]
  },
  {
   "cell_type": "code",
   "execution_count": null,
   "metadata": {},
   "outputs": [],
   "source": [
    "small_inputs = inputs[:40]\n",
    "small_outputs = outputs[:40]\n",
    "\n",
    "np.random.seed(0)\n",
    "shuffled_idxs = list(range(small_inputs.shape[0]))\n",
    "np.random.shuffle(shuffled_idxs)\n",
    "train_cutoff = int(small_inputs.shape[0]*80/100)\n",
    "\n",
    "small_train_inputs = []\n",
    "small_train_outputs = []\n",
    "small_val_inputs = []\n",
    "small_val_outputs = []\n",
    "\n",
    "\n",
    "for iteration, idx in enumerate(shuffled_idxs):\n",
    "    if iteration < train_cutoff:\n",
    "        small_train_inputs.append(small_inputs[idx])\n",
    "        small_train_outputs.append(small_outputs[idx])\n",
    "    else:\n",
    "        small_val_inputs.append(small_inputs[idx])\n",
    "        small_val_outputs.append(small_outputs[idx])\n",
    "\n",
    "n_tumor_pixels = np.count_nonzero(np.asarray(small_train_outputs))\n",
    "total_output_pixels = 32*32*32\n",
    "frac_tumor = n_tumor_pixels / total_output_pixels\n"
   ]
  },
  {
   "cell_type": "code",
   "execution_count": null,
   "metadata": {},
   "outputs": [],
   "source": [
    "small_train_inputs = np.asarray(small_train_inputs).astype(np.float32)\n",
    "small_val_inputs = np.asarray(small_val_inputs).astype(np.float32)\n",
    "\n",
    "small_train_inputs_mean = np.mean(small_train_inputs, axis=0)\n",
    "small_train_inputs_std = np.std(small_train_inputs, axis=0)\n",
    "\n",
    "small_train_inputs -= small_train_inputs_mean\n",
    "small_train_inputs /= small_train_inputs_std\n",
    "small_val_inputs -= small_train_inputs_mean\n",
    "small_val_inputs /= small_train_inputs_std\n"
   ]
  },
  {
   "cell_type": "code",
   "execution_count": null,
   "metadata": {},
   "outputs": [],
   "source": [
    "small_train_data = []\n",
    "small_val_data = []\n",
    "test_data = []\n",
    "\n",
    "for idx in range(small_train_inputs.shape[0]):\n",
    "    small_train_data.append([small_train_inputs[idx], small_train_outputs[idx]])\n",
    "for idx in range(small_val_inputs.shape[0]):\n",
    "    small_val_data.append([small_val_inputs[idx], small_val_outputs[idx]])"
   ]
  },
  {
   "cell_type": "code",
   "execution_count": null,
   "metadata": {},
   "outputs": [],
   "source": [
    "print(len(small_train_data))\n",
    "print(len(small_val_data))"
   ]
  },
  {
   "cell_type": "code",
   "execution_count": null,
   "metadata": {},
   "outputs": [],
   "source": [
    "small_train_loader = torch.utils.data.DataLoader(small_train_data, shuffle=True, batch_size=32)\n",
    "small_val_loader = torch.utils.data.DataLoader(small_val_data, shuffle=True, batch_size=32)\n"
   ]
  },
  {
   "cell_type": "code",
   "execution_count": null,
   "metadata": {},
   "outputs": [],
   "source": [
    "print_every = 25\n",
    "learning_rate = 1e-1\n",
    "input_channels = 3\n",
    "n_classes = 2\n",
    "model = UNet(channel_in=input_channels, classes=n_classes)\n",
    "optimizer = optim.SGD(model.parameters(), lr=learning_rate, momentum=0.9, nesterov=True)\n",
    "# criterion = torch.nn.CrossEntropyLoss(weight=torch.FloatTensor([1.0, n_blank_pixel/float(n_tumor_pixels)]).cuda()) \n",
    "# criterion = torch.nn.CrossEntropyLoss(weight=torch.FloatTensor([1.0, 35]).cuda()) \n",
    "criterion = torch.nn.CrossEntropyLoss(weight=torch.FloatTensor([1.0, (total_output_pixels-n_tumor_pixels)/float(n_tumor_pixels)]).cuda()) \n",
    "\n",
    "# could try dice loss? not sure how it would work nor how it expects its parameters though lol"
   ]
  },
  {
   "cell_type": "code",
   "execution_count": null,
   "metadata": {},
   "outputs": [],
   "source": [
    "val_iou_history = []\n",
    "loss_history = []\n",
    "train_iou_history = []\n",
    "plot_every = 100\n",
    "def train(model, optimizer, epochs=1):\n",
    "    model = model.to(device=device)\n",
    "    loss_history.clear()\n",
    "    val_iou_history.clear()\n",
    "    train_iou_history.clear()\n",
    "    for e in range(epochs):\n",
    "        for t, (x,y) in enumerate(small_train_loader):\n",
    "            model.train()\n",
    "            x = x.to(device='cuda', dtype=dtype)\n",
    "            labels = y.to(device=device, dtype=torch.long).view(y.shape[0], 32, 32)\n",
    "            # print(labels.shape)\n",
    "\n",
    "            scores = model(x)\n",
    "            # print(scores.shape)\n",
    "\n",
    "            loss = criterion(scores, labels)\n",
    "            # loss = F.cross_entropy(scores, labels, weight=torch.FloatTensor([1/(float(26265600-1762336)), 1/(float(1762336))]).cuda())\n",
    "            loss_history.append(loss.item())\n",
    "            optimizer.zero_grad()\n",
    "            loss.backward()\n",
    "            optimizer.step()\n",
    "            # print(t)\n",
    "            if t % print_every == 0:\n",
    "                print('Epoch %d, Iteration %d, loss = %.4f' % (e, t, loss.item()))\n",
    "                val_iou = check_iou(small_val_loader, model)\n",
    "                val_iou_history.append(val_iou)\n",
    "                train_iou = check_iou(small_train_loader, model)\n",
    "                train_iou_history.append(train_iou)\n",
    "                print('Validation IOU: ', val_iou)\n",
    "                print('Training IOU: ', train_iou)\n",
    "            # if t % plot_every == 0:\n",
    "                # plot_output(scores, labels)\n",
    "train(model, optimizer, epochs=5000)"
   ]
  },
  {
   "cell_type": "code",
   "execution_count": null,
   "metadata": {},
   "outputs": [],
   "source": [
    "plt.title('Loss over time')\n",
    "plt.xlabel('Iteration')\n",
    "plt.ylabel('Loss')\n",
    "plt.plot(range(len(loss_history)), loss_history)"
   ]
  },
  {
   "cell_type": "code",
   "execution_count": null,
   "metadata": {},
   "outputs": [],
   "source": [
    "val_hist = np.asarray(val_iou_history)\n",
    "train_hist = np.asarray(train_iou_history)"
   ]
  },
  {
   "cell_type": "code",
   "execution_count": null,
   "metadata": {},
   "outputs": [],
   "source": [
    "plt.title('IOU for tumor over time')\n",
    "plt.xlabel('Iteration')\n",
    "plt.ylabel('IOU')\n",
    "plt.plot(range(val_hist.shape[0]), val_hist[:,1], label='val')\n",
    "plt.plot(range(train_hist.shape[0]), train_hist[:,1], label='train')\n",
    "plt.legend()"
   ]
  },
  {
   "cell_type": "code",
   "execution_count": null,
   "metadata": {},
   "outputs": [],
   "source": [
    "plt.title('IOU for no tumor over time')\n",
    "plt.xlabel('Iteration')\n",
    "plt.ylabel('IOU')\n",
    "plt.plot(range(val_hist.shape[0]), val_hist[:,0], label='val')\n",
    "plt.plot(range(train_hist.shape[0]), train_hist[:,0], label='train')\n",
    "plt.legend()"
   ]
  },
  {
   "cell_type": "code",
   "execution_count": null,
   "metadata": {},
   "outputs": [],
   "source": []
  }
 ],
 "metadata": {
  "kernelspec": {
   "display_name": "Python 3",
   "language": "python",
   "name": "python3"
  },
  "language_info": {
   "codemirror_mode": {
    "name": "ipython",
    "version": 3
   },
   "file_extension": ".py",
   "mimetype": "text/x-python",
   "name": "python",
   "nbconvert_exporter": "python",
   "pygments_lexer": "ipython3",
   "version": "3.7.3"
  }
 },
 "nbformat": 4,
 "nbformat_minor": 2
}
