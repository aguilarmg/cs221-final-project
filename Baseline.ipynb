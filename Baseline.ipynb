{
 "cells": [
  {
   "cell_type": "code",
   "execution_count": 1,
   "metadata": {
    "scrolled": true
   },
   "outputs": [
    {
     "name": "stdout",
     "output_type": "stream",
     "text": [
      "(25650, 4, 32, 32)\n",
      "(25650, 1, 32, 32)\n"
     ]
    },
    {
     "data": {
      "text/plain": [
       "<Figure size 640x480 with 1 Axes>"
      ]
     },
     "metadata": {},
     "output_type": "display_data"
    },
    {
     "name": "stdout",
     "output_type": "stream",
     "text": [
      "0.24283325430015096\n"
     ]
    }
   ],
   "source": [
    "import cv2 as cv\n",
    "import numpy as np\n",
    "import pickle\n",
    "from matplotlib import pyplot as plt\n",
    "\n",
    "with open('trimmed_inputs.pkl', 'rb') as fp:\n",
    "    flar_scans = pickle.load(fp)\n",
    "    print(flar_scans.shape)\n",
    "with open('trimmed_outputs.pkl', 'rb') as fp:\n",
    "    seg_scans = pickle.load(fp)\n",
    "    print(seg_scans.shape)\n",
    "\n",
    "scores = []\n",
    "for idx in range(25650):\n",
    "    # check to make sure there is tumor present\n",
    "    if np.sum(seg_scans[idx][0]) == 0:\n",
    "        continue\n",
    "    img = flar_scans[idx][0]\n",
    "    # preprocess to make sure all values are between 0 and 255 uint8 values\n",
    "    process_img = np.uint8(img)     \n",
    "    \n",
    "    # add a blur to smooth out noise\n",
    "    blur = cv.bilateralFilter(process_img,9,75,75)\n",
    "    # if it's above the threshold get rid of it, because it's probably actual\n",
    "    # brain and not a tumor, otherwise keep everything the same\n",
    "    ret, thresh5 = cv.threshold(process_img, 0, 255, cv.THRESH_TOZERO_INV+cv.THRESH_OTSU)\n",
    "    \n",
    "    # Here, we convert any cell that wasn't cleared as a tumor (1)\n",
    "    # and all else are set to not a tumor (0) to handle possible floats\n",
    "    for i in range(32):\n",
    "        for j in range(32):\n",
    "            if thresh5[i][j] > 0:\n",
    "                thresh5[i][j] = 1\n",
    "            else:\n",
    "                thresh5[i][j] = 0\n",
    "    # Here we normalize our true tumor segment to one values\n",
    "    # because we only care about tumor or not tumor & so that our IOU metric works properly\n",
    "    cpy = np.uint8(np.copy(seg_scans[idx][0]))\n",
    "    for i in range(32):\n",
    "        for j in range(32):\n",
    "            if seg_scans[idx][0][i][j] > 0:\n",
    "                cpy[i][j] = 1\n",
    "            else:\n",
    "                cpy[i][j] = 0\n",
    "    # Logical IOU metric implementation\n",
    "    intersection = np.logical_and(cpy, thresh5)\n",
    "    union = np.logical_or(cpy, thresh5)\n",
    "    numerator = np.sum(intersection)\n",
    "    denominator = np.sum(union)\n",
    "    iou_score = np.sum(intersection) / np.sum(union)\n",
    "    scores.append(iou_score)\n",
    "#print out average IOU score\n",
    "print(sum(scores)/len(scores))"
   ]
  },
  {
   "cell_type": "markdown",
   "metadata": {},
   "source": []
  },
  {
   "cell_type": "code",
   "execution_count": null,
   "metadata": {
    "scrolled": true
   },
   "outputs": [],
   "source": []
  },
  {
   "cell_type": "code",
   "execution_count": 1,
   "metadata": {},
   "outputs": [
    {
     "name": "stdout",
     "output_type": "stream",
     "text": [
      "done\n"
     ]
    }
   ],
   "source": []
  },
  {
   "cell_type": "code",
   "execution_count": null,
   "metadata": {},
   "outputs": [],
   "source": []
  },
  {
   "cell_type": "code",
   "execution_count": null,
   "metadata": {},
   "outputs": [],
   "source": []
  }
 ],
 "metadata": {
  "kernelspec": {
   "display_name": "Python 3",
   "language": "python",
   "name": "python3"
  },
  "language_info": {
   "codemirror_mode": {
    "name": "ipython",
    "version": 3
   },
   "file_extension": ".py",
   "mimetype": "text/x-python",
   "name": "python",
   "nbconvert_exporter": "python",
   "pygments_lexer": "ipython3",
   "version": "3.7.3"
  }
 },
 "nbformat": 4,
 "nbformat_minor": 2
}
