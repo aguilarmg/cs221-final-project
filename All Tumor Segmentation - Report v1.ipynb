{
 "cells": [
  {
   "cell_type": "code",
   "execution_count": null,
   "metadata": {},
   "outputs": [],
   "source": [
    "import numpy as np\n",
    "import pickle\n",
    "import matplotlib.pyplot as plt\n",
    "\n",
    "import torch\n",
    "import torch.nn as nn\n",
    "import torch.optim as optim\n",
    "from torch.utils.data import DataLoader\n",
    "from torch.utils.data import sampler\n",
    "\n",
    "import torchvision.datasets as dset\n",
    "import torchvision.transforms as T\n",
    "\n",
    "%load_ext autoreload\n",
    "%autoreload 2"
   ]
  },
  {
   "cell_type": "code",
   "execution_count": null,
   "metadata": {},
   "outputs": [],
   "source": [
    "with open(\"data/pkl_files/trimmed_inputs.pkl\", \"rb\") as fp:\n",
    "    inputs = pickle.load(fp)\n",
    "with open(\"data/pkl_files/trimmed_outputs.pkl\", \"rb\") as fp:\n",
    "    outputs = pickle.load(fp)"
   ]
  },
  {
   "cell_type": "code",
   "execution_count": null,
   "metadata": {},
   "outputs": [],
   "source": [
    "# Sanity check\n",
    "print(inputs.shape)\n",
    "print(outputs.shape)"
   ]
  },
  {
   "cell_type": "code",
   "execution_count": null,
   "metadata": {},
   "outputs": [],
   "source": [
    "# Sanity Check\n",
    "idx = np.random.randint(0, inputs.shape[0])\n",
    "def plot_sampled_images(idx):    \n",
    "    cropped_seg_img = outputs[idx,0,:,:]\n",
    "    plt.imshow(cropped_seg_img)\n",
    "    plt.show()\n",
    "    cropped_flair_img = inputs[idx,0,:,:]\n",
    "    plt.imshow(cropped_flair_img)\n",
    "    plt.show()\n",
    "    cropped_t1_img = inputs[idx,1,:,:]\n",
    "    plt.imshow(cropped_t1_img)\n",
    "    plt.show()\n",
    "    cropped_t1ce_img = inputs[idx,2,:,:]\n",
    "    plt.imshow(cropped_t1ce_img)\n",
    "    plt.show()\n",
    "    cropped_t2_img = inputs[idx,3,:,:]\n",
    "    plt.imshow(cropped_t2_img)\n",
    "    plt.show()\n",
    "plot_sampled_images(idx)"
   ]
  },
  {
   "cell_type": "code",
   "execution_count": null,
   "metadata": {},
   "outputs": [],
   "source": [
    "np.random.seed(0)\n",
    "shuffled_idxs = list(range(inputs.shape[0]))\n",
    "np.random.shuffle(shuffled_idxs)\n",
    "train_cutoff = int(inputs.shape[0]*75/100)\n",
    "val_cutoff = int(inputs.shape[0]*95/100)\n",
    "\n",
    "train_inputs = []\n",
    "train_outputs = []\n",
    "val_inputs = []\n",
    "val_outputs = []\n",
    "test_inputs = []\n",
    "test_outputs = []\n",
    "\n",
    "for iteration, idx in enumerate(shuffled_idxs):\n",
    "    if iteration < train_cutoff:\n",
    "        train_inputs.append(inputs[idx])\n",
    "        train_outputs.append(outputs[idx])\n",
    "    elif iteration < val_cutoff:\n",
    "        val_inputs.append(inputs[idx])\n",
    "        val_outputs.append(outputs[idx])\n",
    "    else:\n",
    "        test_inputs.append(inputs[idx])\n",
    "        test_outputs.append(outputs[idx])"
   ]
  },
  {
   "cell_type": "code",
   "execution_count": null,
   "metadata": {},
   "outputs": [],
   "source": [
    "# sanity check\n",
    "print(len(train_inputs))\n",
    "print(len(train_outputs))\n",
    "print(len(val_inputs))\n",
    "print(len(val_outputs))\n",
    "print(len(test_inputs))\n",
    "print(len(test_outputs))"
   ]
  },
  {
   "cell_type": "code",
   "execution_count": null,
   "metadata": {},
   "outputs": [],
   "source": [
    "train_inputs = np.asarray(train_inputs)\n",
    "val_inputs = np.asarray(val_inputs)\n",
    "test_inputs = np.asarray(test_inputs)\n",
    "\n",
    "train_inputs_mean = np.mean(train_inputs, axis=0)\n",
    "train_inputs_std = np.std(train_inputs, axis=0)\n",
    "\n",
    "train_inputs -= train_inputs_mean\n",
    "train_inputs /= train_inputs_std\n",
    "val_inputs -= train_inputs_mean\n",
    "val_inputs /= train_inputs_std\n",
    "test_inputs -= train_inputs_mean\n",
    "test_inputs /= train_inputs_std"
   ]
  },
  {
   "cell_type": "code",
   "execution_count": null,
   "metadata": {},
   "outputs": [],
   "source": [
    "train_outputs = np.asarray(train_outputs)\n",
    "n_tumor_pixels = np.count_nonzero(train_outputs)\n",
    "n_tumor1 = np.count_nonzero(train_outputs==1)\n",
    "n_tumor2 = np.count_nonzero(train_outputs==2)\n",
    "n_tumor3 = np.count_nonzero(train_outputs==3)\n",
    "n_tumor4 = np.count_nonzero(train_outputs==4)\n",
    "total_pixels = train_outputs.shape[0]*train_outputs.shape[2]*train_outputs.shape[3]\n",
    "print(total_pixels)\n",
    "n_blank_pixels = total_pixels - n_tumor_pixels\n",
    "frac_tumor = n_tumor_pixels/total_pixels\n",
    "print(frac_tumor)"
   ]
  },
  {
   "cell_type": "code",
   "execution_count": null,
   "metadata": {},
   "outputs": [],
   "source": [
    "train_data = []\n",
    "val_data = []\n",
    "test_data = []\n",
    "\n",
    "for idx in range(train_inputs.shape[0]):\n",
    "    train_data.append([train_inputs[idx], train_outputs[idx]])\n",
    "for idx in range(val_inputs.shape[0]):\n",
    "    val_data.append([val_inputs[idx], val_outputs[idx]])\n",
    "for idx in range(test_inputs.shape[0]):\n",
    "    test_data.append([test_inputs[idx], test_outputs[idx]])"
   ]
  },
  {
   "cell_type": "code",
   "execution_count": null,
   "metadata": {},
   "outputs": [],
   "source": [
    "train_loader = torch.utils.data.DataLoader(train_data, shuffle=True, batch_size=64)\n",
    "val_loader = torch.utils.data.DataLoader(val_data, shuffle=True, batch_size=64)\n",
    "test_loader = torch.utils.data.DataLoader(test_data, shuffle=True, batch_size=64)\n",
    "\n",
    "print(len(train_loader))\n",
    "print(len(train_data))"
   ]
  },
  {
   "cell_type": "code",
   "execution_count": null,
   "metadata": {},
   "outputs": [],
   "source": [
    "USE_GPU = True\n",
    "\n",
    "dtype = torch.float32 # we will be using float throughout this tutorial\n",
    "\n",
    "if USE_GPU and torch.cuda.is_available():\n",
    "    device = torch.device('cuda')\n",
    "else:\n",
    "    device = torch.device('cpu')\n",
    "\n",
    "# Constant to control how frequently we print train loss\n",
    "print_every = 30\n",
    "\n",
    "print('using device:', device)"
   ]
  },
  {
   "cell_type": "code",
   "execution_count": null,
   "metadata": {},
   "outputs": [],
   "source": [
    "from models.unet import *"
   ]
  },
  {
   "cell_type": "code",
   "execution_count": null,
   "metadata": {},
   "outputs": [],
   "source": [
    "def test_UNet():\n",
    "    channels_in = 4\n",
    "    n_classes = 5\n",
    "    x = torch.zeros((64, 4, 32, 32), dtype=dtype)\n",
    "    model = UNet(channels_in, n_classes)\n",
    "    scores = model(x)\n",
    "    print(scores.size())\n",
    "test_UNet()"
   ]
  },
  {
   "cell_type": "code",
   "execution_count": null,
   "metadata": {},
   "outputs": [],
   "source": [
    "# Defining all parameters \n",
    "print_every = 25\n",
    "loss_history = []\n",
    "learning_rate = 1e-1\n",
    "input_channels = 4\n",
    "n_classes = 5\n",
    "model = UNet(channel_in=input_channels, classes=n_classes)\n",
    "optimizer = optim.SGD(model.parameters(), lr=learning_rate, momentum=0.9, nesterov=True)\n",
    "# criterion = torch.nn.CrossEntropyLoss(weight=torch.FloatTensor([1.0, n_blank_pixel/float(n_tumor_pixels)]).cuda()) \n",
    "class_weights = [1.0, n_blank_pixels/float(n_tumor1), n_blank_pixels/float(n_tumor2), 1.0, n_blank_pixels/float(n_tumor4)]\n",
    "print(class_weights)\n",
    "criterion = torch.nn.CrossEntropyLoss(weight=torch.FloatTensor(class_weights).cuda()) \n",
    "# could try dice loss? not sure how it would work nor how it expects its parameters though lol\n",
    "\n",
    "if USE_GPU and torch.cuda.is_available():\n",
    "    model.cuda()"
   ]
  },
  {
   "cell_type": "code",
   "execution_count": null,
   "metadata": {},
   "outputs": [],
   "source": [
    "def create_masks(x):\n",
    "    mask = np.zeros((n_classes, x.shape[0], x.shape[1]))\n",
    "    for c in range(n_classes):\n",
    "        mask[c] = x == c\n",
    "    return mask"
   ]
  },
  {
   "cell_type": "code",
   "execution_count": null,
   "metadata": {},
   "outputs": [],
   "source": [
    "def compute_iou(scores, output):  \n",
    "    scores = scores.astype(np.bool)\n",
    "    output = output.astype(np.bool)\n",
    "    overlap = scores*output\n",
    "    union = scores+output # Logical OR\n",
    "    IOU = (overlap.sum())/(float(union.sum())+1e-10) \n",
    "    return IOU"
   ]
  },
  {
   "cell_type": "code",
   "execution_count": null,
   "metadata": {},
   "outputs": [],
   "source": [
    "def iou_metric(preds, labels):\n",
    "    # preds and labels are of size (64, 32, 32)\n",
    "    # return average iou value for each class\n",
    "    numpy_preds = preds.cpu().numpy()  \n",
    "    numpy_labels = labels.cpu().numpy()\n",
    "    \n",
    "    iou_tracker = np.zeros((numpy_preds.shape[0], n_classes))\n",
    "    # get the masks\n",
    "    for idx in range(numpy_preds.shape[0]):\n",
    "        \"\"\"plt.title('Segmented Output')\n",
    "        plt.imshow(numpy_preds[idx,:,:])\n",
    "        plt.show()\n",
    "        plt.title('Ground Truth')\n",
    "        plt.imshow(numpy_labels[idx,:,:])\n",
    "        plt.show()\"\"\"\n",
    "        pred_mask = create_masks(numpy_preds[idx])\n",
    "        label_mask = create_masks(numpy_labels[idx])\n",
    "        for c in range(n_classes):\n",
    "            iou_tracker[idx, c] = compute_iou(pred_mask[c], label_mask[c])\n",
    "        # print(iou_tracker[idx])\n",
    "    # print(np.mean(iou_tracker, axis=0))\n",
    "    return np.mean(iou_tracker, axis=0)  "
   ]
  },
  {
   "cell_type": "code",
   "execution_count": null,
   "metadata": {},
   "outputs": [],
   "source": [
    "def check_iou(loader, model):\n",
    "    all_iou = np.zeros((len(loader),n_classes))\n",
    "\n",
    "    with torch.no_grad():\n",
    "        for t, (x,y) in enumerate(loader):\n",
    "            x = x.to(device=device, dtype=dtype)  # move to device, e.g. GPU\n",
    "            y = y.to(device=device, dtype=torch.float).view(y.shape[0], 32, 32)\n",
    "            scores = model(x)\n",
    "            _, preds = scores.max(1)\n",
    "            \n",
    "            all_iou[t] = iou_metric(preds, y)\n",
    "    # print(np.mean(all_iou, axis=0))\n",
    "    return np.mean(all_iou, axis=0)"
   ]
  },
  {
   "cell_type": "code",
   "execution_count": null,
   "metadata": {},
   "outputs": [],
   "source": [
    "check_iou(val_loader, model)"
   ]
  },
  {
   "cell_type": "code",
   "execution_count": null,
   "metadata": {},
   "outputs": [],
   "source": [
    "def plot_output(scores, y):\n",
    "    with torch.no_grad():\n",
    "        _, preds = scores.max(1)\n",
    "        numpy_scores = preds.cpu().numpy().astype(np.uint8)\n",
    "        numpy_truth = y.cpu().numpy().astype(np.uint8)\n",
    "        idx = np.random.randint(1, y.shape[0])\n",
    "        while(np.count_nonzero(numpy_truth[idx]) < int(0.10*32*32)):\n",
    "            idx = np.random.randint(1, y.shape[0])\n",
    "        plt.title('Segmented Output')\n",
    "        plt.imshow(numpy_scores[idx,:,:])\n",
    "        plt.show()\n",
    "        plt.title('Ground Truth')\n",
    "        plt.imshow(numpy_truth[idx,:,:])\n",
    "        plt.show()"
   ]
  },
  {
   "cell_type": "code",
   "execution_count": null,
   "metadata": {},
   "outputs": [],
   "source": [
    "import torch.nn.functional as F\n",
    "loss_history = []\n",
    "val_iou_history = []\n",
    "train_iou_history = []\n",
    "plot_every = 100\n",
    "def train(model, optimizer, epochs=1):\n",
    "    model = model.to(device=device)\n",
    "    loss_history.clear()\n",
    "    val_iou_history.clear()\n",
    "    train_iou_history.clear()\n",
    "    for e in range(epochs):\n",
    "        for t, (x,y) in enumerate(train_loader):\n",
    "            model.train()\n",
    "            x = x.to(device=device, dtype=dtype)\n",
    "            labels = y.to(device=device, dtype=torch.long).view(y.shape[0], 32, 32)\n",
    "            # print(labels.shape)\n",
    "\n",
    "            scores = model(x)\n",
    "            # print(scores.shape)\n",
    "\n",
    "            loss = criterion(scores, labels)\n",
    "            # loss = F.cross_entropy(scores, labels, weight=torch.FloatTensor([1/(float(26265600-1762336)), 1/(float(1762336))]).cuda())\n",
    "            loss_history.append(loss.item())\n",
    "            optimizer.zero_grad()\n",
    "            loss.backward()\n",
    "            optimizer.step()\n",
    "            # print(t)\n",
    "            if t % print_every == 0:\n",
    "                print('Epoch %d, Iteration %d, loss = %.4f' % (e, t, loss.item()))\n",
    "                val_iou = check_iou(val_loader, model)\n",
    "                val_iou_history.append(val_iou)\n",
    "                train_iou = check_iou(train_loader, model)\n",
    "                train_iou_history.append(train_iou)\n",
    "                print('Validation IOU: ', val_iou)\n",
    "                print('Training IOU: ', train_iou)\n",
    "            # if t % plot_every == 0:\n",
    "                # plot_output(scores, labels)\n",
    "train(model, optimizer, epochs=250)"
   ]
  },
  {
   "cell_type": "code",
   "execution_count": null,
   "metadata": {},
   "outputs": [],
   "source": [
    "fig = plt.figure()\n",
    "plt.title('Loss over time')\n",
    "plt.xlabel('Iteration')\n",
    "plt.ylabel('Loss')\n",
    "plt.plot(range(len(loss_history))[0::100], loss_history[0::100])\n",
    "fig.savefig('Loss over time (5 classes).png')"
   ]
  },
  {
   "cell_type": "code",
   "execution_count": null,
   "metadata": {},
   "outputs": [],
   "source": [
    "val_hist = np.asarray(val_iou_history)\n",
    "train_hist = np.asarray(train_iou_history)\n",
    "print(val_hist.shape)\n",
    "print(train_hist.shape)"
   ]
  },
  {
   "cell_type": "code",
   "execution_count": null,
   "metadata": {},
   "outputs": [],
   "source": [
    "fig = plt.figure()\n",
    "plt.title('IOU for no tumor over time')\n",
    "plt.xlabel('Iteration')\n",
    "plt.ylabel('IOU')\n",
    "plt.plot(range(val_hist.shape[0]), val_hist[:,0], label='val')\n",
    "plt.plot(range(train_hist.shape[0]), train_hist[:,0], label='train')\n",
    "plt.legend()\n",
    "fig.savefig('IOU for no tumor (5 classes) - Poster.png')"
   ]
  },
  {
   "cell_type": "code",
   "execution_count": null,
   "metadata": {},
   "outputs": [],
   "source": [
    "fig = plt.figure()\n",
    "plt.title('IOU for tumor 1 over time')\n",
    "plt.xlabel('Iteration')\n",
    "plt.ylabel('IOU')\n",
    "plt.plot(range(val_hist.shape[0]), val_hist[:,1], label='val')\n",
    "plt.plot(range(train_hist.shape[0]), train_hist[:,1], label='train')\n",
    "plt.legend()\n",
    "fig.savefig('IOU for tumor 1 (5 classes) - Poster.png')"
   ]
  },
  {
   "cell_type": "code",
   "execution_count": null,
   "metadata": {},
   "outputs": [],
   "source": [
    "fig = plt.figure()\n",
    "plt.title('IOU for tumor 2 over time')\n",
    "plt.xlabel('Iteration')\n",
    "plt.ylabel('IOU')\n",
    "plt.plot(range(val_hist.shape[0]), val_hist[:,2], label='val')\n",
    "plt.plot(range(train_hist.shape[0]), train_hist[:,2], label='train')\n",
    "plt.legend()\n",
    "fig.savefig('IOU for tumor 2 (5 classes) - Poster.png')"
   ]
  },
  {
   "cell_type": "code",
   "execution_count": null,
   "metadata": {},
   "outputs": [],
   "source": [
    "fig = plt.figure()\n",
    "plt.title('IOU for tumor 4 over time')\n",
    "plt.xlabel('Iteration')\n",
    "plt.ylabel('IOU')\n",
    "plt.plot(range(val_hist.shape[0]), val_hist[:,4], label='val')\n",
    "plt.plot(range(train_hist.shape[0]), train_hist[:,4], label='train')\n",
    "plt.legend()\n",
    "fig.savefig('IOU for tumor 4 (5 classes) - Poster.png')"
   ]
  },
  {
   "cell_type": "code",
   "execution_count": null,
   "metadata": {},
   "outputs": [],
   "source": [
    "check_iou(test_loader, model)"
   ]
  },
  {
   "cell_type": "code",
   "execution_count": null,
   "metadata": {},
   "outputs": [],
   "source": []
  }
 ],
 "metadata": {
  "kernelspec": {
   "display_name": "Python 3",
   "language": "python",
   "name": "python3"
  },
  "language_info": {
   "codemirror_mode": {
    "name": "ipython",
    "version": 3
   },
   "file_extension": ".py",
   "mimetype": "text/x-python",
   "name": "python",
   "nbconvert_exporter": "python",
   "pygments_lexer": "ipython3",
   "version": "3.7.3"
  }
 },
 "nbformat": 4,
 "nbformat_minor": 2
}
